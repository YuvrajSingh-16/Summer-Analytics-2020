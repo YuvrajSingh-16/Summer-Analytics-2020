{
 "cells": [
  {
   "cell_type": "markdown",
   "metadata": {
    "_uuid": "7793558d788eb4b42622eb887c5a0bace285aa05"
   },
   "source": [
    "#### This note book focuses on analysis on why people are leaving an organization. It uses the IBM HR data available from Kaggle"
   ]
  },
  {
   "cell_type": "code",
   "execution_count": null,
   "metadata": {
    "_uuid": "d2a57098a9d81630880d4eff786c1e61111146c7"
   },
   "outputs": [],
   "source": [
    "# Importing the required libraries\n",
    "import matplotlib.pyplot as plt\n",
    "import numpy as np\n",
    "import pandas as pd\n",
    "import seaborn as sb\n",
    "import warnings\n",
    "warnings.filterwarnings('ignore')"
   ]
  },
  {
   "cell_type": "code",
   "execution_count": null,
   "metadata": {
    "_kg_hide-input": true,
    "_uuid": "ba10a214b2713dc4a094f6c559634c36fdddd1e6"
   },
   "outputs": [],
   "source": [
    "#Reading the Data Set\n",
    "hr_data = pd.read_csv('../input/WA_Fn-UseC_-HR-Employee-Attrition.csv')"
   ]
  },
  {
   "cell_type": "code",
   "execution_count": null,
   "metadata": {
    "_uuid": "7298f0912dfc3ba1308895a9b697d964430de16c"
   },
   "outputs": [],
   "source": [
    "#Displaying the Top 5 rows in Data Set\n",
    "hr_data.head()"
   ]
  },
  {
   "cell_type": "code",
   "execution_count": null,
   "metadata": {
    "_uuid": "ddef097d28482fb3ba0cbaf6abb56f3316ef8c4e"
   },
   "outputs": [],
   "source": [
    "#Check if any Column's has NA or Missing Values\n",
    "hr_data.isnull().any()"
   ]
  },
  {
   "cell_type": "code",
   "execution_count": null,
   "metadata": {
    "_uuid": "947d8893c911ed4ae60b55079fa144a5e353ef05"
   },
   "outputs": [],
   "source": [
    "#Shape of the Data\n",
    "hr_data.shape"
   ]
  },
  {
   "cell_type": "markdown",
   "metadata": {
    "_uuid": "e68cb43a1c234837f09b53f655bb25bbc221fa68"
   },
   "source": [
    "Data set has 1470 rows and 35 Columns"
   ]
  },
  {
   "cell_type": "code",
   "execution_count": null,
   "metadata": {
    "_uuid": "28fa83c21c0fe2f775d811b4a6e7d2573280a2df"
   },
   "outputs": [],
   "source": [
    "#Data Types of Columns\n",
    "hr_data.dtypes"
   ]
  },
  {
   "cell_type": "code",
   "execution_count": null,
   "metadata": {
    "_uuid": "b6fd688fdba0cfe4e0b585a3d2f1e7340304c23b"
   },
   "outputs": [],
   "source": [
    "#Show how much % of employees left the organization\n",
    "hr_data.Attrition.value_counts(normalize=True)"
   ]
  },
  {
   "cell_type": "markdown",
   "metadata": {
    "_uuid": "bf5edf7eb9240846e4891b29b649ca6bad336309"
   },
   "source": [
    " 16 % of the employees left the company. 84% did not leave the company.(Class Imbalance Problem) "
   ]
  },
  {
   "cell_type": "markdown",
   "metadata": {
    "_uuid": "ef18a4e56afc3d497ed4d582a3fda8e6018d03df"
   },
   "source": [
    "### EDA"
   ]
  },
  {
   "cell_type": "code",
   "execution_count": null,
   "metadata": {
    "_uuid": "8992702052fb2d6913e861db1d4ae73f553bee89"
   },
   "outputs": [],
   "source": [
    "plt.figure(figsize=(8,6))\n",
    "Attrition=hr_data.Attrition.value_counts()\n",
    "sb.barplot(x=Attrition.index ,y=Attrition.values)\n",
    "plt.title('Distribution of Employee Turnover')\n",
    "plt.xlabel('Employee Turnover', fontsize=16)\n",
    "plt.ylabel('Count', fontsize=16)"
   ]
  },
  {
   "cell_type": "markdown",
   "metadata": {
    "_uuid": "38b0761eac4a461186d7420068c1557e69603385"
   },
   "source": [
    "We can clearly see that Dataset in Imbalanced(84% No , 16% Yes)"
   ]
  },
  {
   "cell_type": "code",
   "execution_count": null,
   "metadata": {
    "_uuid": "79101583158efb9f636a0853a33b2a70bd427e07"
   },
   "outputs": [],
   "source": [
    "sb.distplot(hr_data['Age'])"
   ]
  },
  {
   "cell_type": "markdown",
   "metadata": {
    "_uuid": "abe5ede627eb1bfe7c1bbc1a40f5776a6aafb3f3"
   },
   "source": [
    "Age is fairly normally distributed with average Age around 35. Most of the employees in the range 25 to 45"
   ]
  },
  {
   "cell_type": "code",
   "execution_count": null,
   "metadata": {
    "_uuid": "1739269baca0a8502647119bda938b597916802b"
   },
   "outputs": [],
   "source": [
    "sb.distplot(hr_data['MonthlyIncome'])"
   ]
  },
  {
   "cell_type": "markdown",
   "metadata": {
    "_uuid": "177689668d4d2fcd427d657bb983dfb884fe3504"
   },
   "source": [
    "Most the employees have their monthly income around 5000$ and is distribution Rightly Skewed"
   ]
  },
  {
   "cell_type": "code",
   "execution_count": null,
   "metadata": {
    "_uuid": "3990938573fdc7614b4530145d58a13a8bb42df9"
   },
   "outputs": [],
   "source": [
    "sb.distplot(hr_data['TotalWorkingYears'])"
   ]
  },
  {
   "cell_type": "markdown",
   "metadata": {
    "_uuid": "7585c15cbb476ae58785bd3987990dfeceb0f14f"
   },
   "source": [
    "Total Working Years is also right skewed similar to Age"
   ]
  },
  {
   "cell_type": "code",
   "execution_count": null,
   "metadata": {
    "_uuid": "9c2e84b7f7ccbd6bd7273a846b1e6df43bc5f3db"
   },
   "outputs": [],
   "source": [
    "#Method that plot density plots on the columns passed as input\n",
    "def kdePlot(var):\n",
    "    fig = plt.figure(figsize=(15,4))\n",
    "    ax=sb.kdeplot(hr_data.loc[(hr_data['Attrition'] == 'No'),var] , color='b',shade=True, label='no Attrition') \n",
    "    ax=sb.kdeplot(hr_data.loc[(hr_data['Attrition'] == 'Yes'),var] , color='r',shade=True, label='Attrition')\n",
    "    plt.title('Employee Attrition with respect to {}'.format(var))\n",
    "    "
   ]
  },
  {
   "cell_type": "code",
   "execution_count": null,
   "metadata": {
    "_uuid": "54757013a4d729302b61c1ba18070506f9d13e51"
   },
   "outputs": [],
   "source": [
    "numerical_df=hr_data.select_dtypes(include=np.number)\n",
    "numeric_cols_kdeplot=list(numerical_df.columns)\n",
    "remove_columns=['Age','DistanceFromHome','Education','EmployeeCount','EmployeeNumber',\n",
    "'EnvironmentSatisfaction' ,'HourlyRate','JobInvolvement','JobSatisfaction','MonthlyRate','NumCompaniesWorked',\n",
    "'PercentSalaryHike','PerformanceRating','RelationshipSatisfaction','StandardHours','StockOptionLevel','TotalWorkingYears',\n",
    "'TrainingTimesLastYear','WorkLifeBalance','YearsSinceLastPromotion']\n",
    "for l in remove_columns:\n",
    "    numeric_cols_kdeplot.remove(l)"
   ]
  },
  {
   "cell_type": "code",
   "execution_count": null,
   "metadata": {
    "_uuid": "b00c7897ef972263fe2f73dd42f01268969c71de"
   },
   "outputs": [],
   "source": [
    "#Plotting KDE plots\n",
    "for n in numeric_cols_kdeplot:\n",
    "    kdePlot(n)"
   ]
  },
  {
   "cell_type": "markdown",
   "metadata": {
    "_uuid": "10916eef3840de24df0b89abb743ef0a49c4599a"
   },
   "source": [
    "### Observations"
   ]
  },
  {
   "cell_type": "markdown",
   "metadata": {
    "_uuid": "5a3c7f2abea4838ec972383fa8dec6dd9893b3f3"
   },
   "source": [
    "Attrition is high with Employees having joblevel as 1.\n"
   ]
  },
  {
   "cell_type": "markdown",
   "metadata": {
    "_uuid": "6bc86814d3e66e9158f5573ef3e6ae76ac02dcdc"
   },
   "source": [
    "Employees whose monthly income is below $5000 have high attrition.\n"
   ]
  },
  {
   "cell_type": "markdown",
   "metadata": {
    "_uuid": "02d86a839881383d195ae0037412530adda41c7b"
   },
   "source": [
    "Employees who worked in the company around 0 to 1 years have high attrition.\n"
   ]
  },
  {
   "cell_type": "markdown",
   "metadata": {
    "_uuid": "c78fa0b39d7abb93dc40ea5d65679d7874e29012"
   },
   "source": [
    "Employees who are in current role for around 0 to 4 years have high attrition."
   ]
  },
  {
   "cell_type": "code",
   "execution_count": null,
   "metadata": {
    "_uuid": "e2bdd95df1b8476eb417022d30cb66ef1c45f082"
   },
   "outputs": [],
   "source": [
    "BarPlot_columns=['Age','DistanceFromHome','EducationField',\n",
    "                'JobInvolvement','JobLevel','JobRole','OverTime','TotalWorkingYears','TrainingTimesLastYear',\n",
    "                'WorkLifeBalance','YearsInCurrentRole']"
   ]
  },
  {
   "cell_type": "code",
   "execution_count": null,
   "metadata": {
    "_uuid": "f8009b9789d4369634d186ed43516153b7d6fe84"
   },
   "outputs": [],
   "source": [
    "#Method the perform Bar plots\n",
    "def Bar_plots(var):\n",
    "    col=pd.crosstab(hr_data[var],hr_data.Attrition)\n",
    "    col.div(col.sum(1).astype(float), axis=0).plot(kind=\"bar\", stacked=False, figsize=(8,4))\n",
    "    plt.xticks(rotation=90)"
   ]
  },
  {
   "cell_type": "code",
   "execution_count": null,
   "metadata": {
    "_uuid": "349bce5ac922f013bdeee8af520de7e74df234c2"
   },
   "outputs": [],
   "source": [
    "for col in BarPlot_columns:\n",
    "    Bar_plots(col)"
   ]
  },
  {
   "cell_type": "markdown",
   "metadata": {
    "_uuid": "a4888ac83b425ac9f8c0e2667e80b4eebbf2d8f2"
   },
   "source": [
    "### Observations"
   ]
  },
  {
   "cell_type": "markdown",
   "metadata": {
    "_uuid": "65e93ba4be2172053b939105c9e05bbaa70a1254"
   },
   "source": [
    "Attrition is very high with employees having age in between 18 to 22. These might be due to students who are doing intership or small contract jobs"
   ]
  },
  {
   "cell_type": "markdown",
   "metadata": {
    "_uuid": "42623e4c44e38fdf75ee560bbcd55ff4d15b3bc4"
   },
   "source": [
    "Attrition is more when the distance of office is more from home"
   ]
  },
  {
   "cell_type": "markdown",
   "metadata": {
    "_uuid": "298fca0238f9166ce5d2d99ed7f988997c7e794f"
   },
   "source": [
    "Attrition is high with employee's education in the field of Human Resources, Marketing and Technical Degree that other fields"
   ]
  },
  {
   "cell_type": "markdown",
   "metadata": {
    "_uuid": "e0314d5d8c8e02cca9a685ea11d0f69dc86b5399"
   },
   "source": [
    "Attrition is high with employee's whose job role is in the field of Human Resources, Sales Representative, Laboratory Technician."
   ]
  },
  {
   "cell_type": "markdown",
   "metadata": {
    "_uuid": "f2f1269c204ab860469ba504a21e770e4604f5e8"
   },
   "source": [
    "Employees who work over time have high attrition than employees who did not do over time"
   ]
  },
  {
   "cell_type": "markdown",
   "metadata": {
    "_uuid": "a11efb15a4d4129333334ca4896edb64ae551a1f"
   },
   "source": [
    "Employees who are working less than 2 years have more attrition"
   ]
  },
  {
   "cell_type": "code",
   "execution_count": null,
   "metadata": {
    "_uuid": "892146c3d8117ab26036b0521dd67d7bd749b969"
   },
   "outputs": [],
   "source": [
    "#Replacing Yes with 1 and No with 0 in Attrition Column\n",
    "hr_data['Attrition']=np.where(hr_data['Attrition']=='No', #condition\n",
    "                 0, #value if condition is true\n",
    "                 1)"
   ]
  },
  {
   "cell_type": "code",
   "execution_count": null,
   "metadata": {
    "_uuid": "b781671fbfc3758f1dc9d444829bcc89a6e2dcae"
   },
   "outputs": [],
   "source": [
    "hr_data.describe().iloc[:,:20]"
   ]
  },
  {
   "cell_type": "code",
   "execution_count": null,
   "metadata": {
    "_uuid": "d8d9cf844b4ba154ef958b03113f940ef75a909d"
   },
   "outputs": [],
   "source": [
    "hr_data.EmployeeCount.value_counts()"
   ]
  },
  {
   "cell_type": "code",
   "execution_count": null,
   "metadata": {
    "_uuid": "8a213dfb8aba76db62caaf09c84a4ad10df04b43"
   },
   "outputs": [],
   "source": [
    "hr_data.StandardHours.value_counts()"
   ]
  },
  {
   "cell_type": "code",
   "execution_count": null,
   "metadata": {
    "_uuid": "c6bd6d65f8d84bddeac4e36bb3ade62c752281ac"
   },
   "outputs": [],
   "source": [
    "len(set(hr_data.EmployeeNumber))"
   ]
  },
  {
   "cell_type": "markdown",
   "metadata": {
    "_uuid": "690e5fcd9d70e44ba3cca78a5007a6852be7c7e0"
   },
   "source": [
    "Dropping the columns EmployeeCount,StandardHours,EmployeeNumber as these columns does not help in model building."
   ]
  },
  {
   "cell_type": "code",
   "execution_count": null,
   "metadata": {
    "_uuid": "69a0990595fe46ed93ffdb38a6a223d053f2b71c"
   },
   "outputs": [],
   "source": [
    "hr_data=hr_data.drop(['EmployeeCount', 'StandardHours','EmployeeNumber'], axis=1)"
   ]
  },
  {
   "cell_type": "code",
   "execution_count": null,
   "metadata": {
    "_uuid": "bcb7632685d3c447b039802a984fe6ba8fa48763"
   },
   "outputs": [],
   "source": [
    "hr_data.groupby('Attrition').mean().iloc[:,:20]"
   ]
  },
  {
   "cell_type": "code",
   "execution_count": null,
   "metadata": {
    "_uuid": "f06f4c4fdf6f36ff104320fd3ad88888276cc86a"
   },
   "outputs": [],
   "source": [
    "hr_data.groupby('Attrition').mean().iloc[:,20:26]"
   ]
  },
  {
   "cell_type": "code",
   "execution_count": null,
   "metadata": {
    "_uuid": "51ac3fa1dd70aa6ba348838dc7c82e019edc5edb"
   },
   "outputs": [],
   "source": [
    "corr_matrix = hr_data.corr()\n",
    "f , ax = plt.subplots(figsize=(20,12))\n",
    "sb.heatmap(corr_matrix,vmax=0.8, annot=True)"
   ]
  },
  {
   "cell_type": "code",
   "execution_count": null,
   "metadata": {
    "_uuid": "5f73558d7564f6d47ef89300db16d1c49df39748"
   },
   "outputs": [],
   "source": [
    "numerical_df=hr_data.select_dtypes(include=np.number)\n",
    "categorical_df=hr_data.select_dtypes(exclude=np.number)\n",
    "numeric_cols=list(numerical_df.columns)\n",
    "categorical_cols=list(categorical_df.columns)"
   ]
  },
  {
   "cell_type": "code",
   "execution_count": null,
   "metadata": {
    "_uuid": "6f1d4968cbb3905e6dfbe7d1d683205430516645"
   },
   "outputs": [],
   "source": [
    "for n in categorical_cols:\n",
    "    print(pd.crosstab(hr_data['Attrition'],hr_data[n],normalize='columns'))"
   ]
  },
  {
   "cell_type": "code",
   "execution_count": null,
   "metadata": {
    "_uuid": "846af3ccb1e9fb3d06ccb1fcbc881a1a83358411"
   },
   "outputs": [],
   "source": [
    "categorical_df_dummies=pd.get_dummies(hr_data[categorical_cols],drop_first=True)\n",
    "final_df=pd.concat([categorical_df_dummies,numerical_df],axis=1)"
   ]
  },
  {
   "cell_type": "code",
   "execution_count": null,
   "metadata": {
    "_uuid": "920b12bddab0241dd3ed72cec0ce3b8d669a99e3"
   },
   "outputs": [],
   "source": [
    "final_df.head()"
   ]
  },
  {
   "cell_type": "code",
   "execution_count": null,
   "metadata": {
    "_uuid": "796e6617f61125ac7c6cf7b92c0c9073d5b5a7a4"
   },
   "outputs": [],
   "source": [
    "y=final_df.Attrition\n",
    "X=final_df.drop(['Attrition'], axis=1)"
   ]
  },
  {
   "cell_type": "code",
   "execution_count": null,
   "metadata": {
    "_uuid": "1fe2773bab5d6f01dc614444de6ef374ab5f640d"
   },
   "outputs": [],
   "source": [
    "#Splitting Data in Train and Test Set\n",
    "from sklearn.model_selection import train_test_split\n",
    "from sklearn.metrics import classification_report,accuracy_score,roc_auc_score,precision_recall_curve,confusion_matrix,precision_score,confusion_matrix\n",
    "X_train,X_test,y_train,y_test=train_test_split(X,y,test_size=0.2,random_state=100)"
   ]
  },
  {
   "cell_type": "code",
   "execution_count": null,
   "metadata": {
    "_uuid": "aa55fa22784ae0badd7e56696182c6b456fd560a"
   },
   "outputs": [],
   "source": [
    "#Building base model(Predicting that no employee leaves the company)\n",
    "base=np.zeros(1470)\n",
    "print(accuracy_score(base,hr_data.Attrition))"
   ]
  },
  {
   "cell_type": "markdown",
   "metadata": {
    "_uuid": "b20dd1e1912055449b2ee61c7d5f247c151035ab"
   },
   "source": [
    "Base model has 83.8% accuracy. Thus accuracy is not best criteria to check the performance of the model"
   ]
  },
  {
   "cell_type": "code",
   "execution_count": null,
   "metadata": {
    "_uuid": "f9fb27baf23fbc61a07cbba8c807f2c867e26698"
   },
   "outputs": [],
   "source": [
    "#Method that applies model on the data and Predict the attrition\n",
    "def model(mod,model_name,x_tr,y_tr,x_tes,y_te):\n",
    "    mod.fit(x_tr,y_tr)\n",
    "    pred_dt=mod.predict(x_tes)\n",
    "    print(\"     \",model_name,\"      \")\n",
    "    print(\"Accuracy \",accuracy_score(pred_dt,y_te))\n",
    "    print(\"ROC_AUC  \",roc_auc_score(pred_dt,y_te))\n",
    "    cm=confusion_matrix(pred_dt,y_te)\n",
    "    print(\"Confusion Matrix  \\n\",cm)\n",
    "    print(\"                    Classification Report \\n\",classification_report(pred_dt,y_te))"
   ]
  },
  {
   "cell_type": "code",
   "execution_count": null,
   "metadata": {
    "_uuid": "ce13cf0bad023af02f7a2091707c783e06f256dc"
   },
   "outputs": [],
   "source": [
    "from sklearn.linear_model import LogisticRegression\n",
    "lr=LogisticRegression()\n",
    "model(lr,\"Logistic Regression\",X_train,y_train,X_test,y_test)"
   ]
  },
  {
   "cell_type": "markdown",
   "metadata": {
    "_uuid": "7c6cf2bc9daadd0adf0c2d953f5e032f0dc04ebd"
   },
   "source": [
    "Accuracy is 86% but Precision and Recall for class 1 is low"
   ]
  },
  {
   "cell_type": "code",
   "execution_count": null,
   "metadata": {
    "_uuid": "68f21b0ce09f826b4098eca4ddba1b80382907da"
   },
   "outputs": [],
   "source": [
    "from sklearn.tree import DecisionTreeClassifier\n",
    "dt=DecisionTreeClassifier(min_samples_leaf=20, max_depth=4)\n",
    "model(dt,\"Decision Tree\",X_train,y_train,X_test,y_test)"
   ]
  },
  {
   "cell_type": "markdown",
   "metadata": {
    "_uuid": "ded7ba0c0491cb99c73ea0745d6d83ba0e191a80"
   },
   "source": [
    "Accuracy is 85% but again Precision and Recall for class 1 is low"
   ]
  },
  {
   "cell_type": "code",
   "execution_count": null,
   "metadata": {
    "_uuid": "43dd76c5097f2373307c9f158f510bbbb1899128"
   },
   "outputs": [],
   "source": [
    "from sklearn.ensemble import RandomForestClassifier\n",
    "rf=RandomForestClassifier(n_estimators=10,max_depth=4)\n",
    "model(rf,\"Random Forest\",X_train,y_train,X_test,y_test)"
   ]
  },
  {
   "cell_type": "markdown",
   "metadata": {
    "_uuid": "da0eb643dc859d8b098e44296cd720f4e76a8649"
   },
   "source": [
    "Accuracy is 85% but even though recall is better ,Precision  is low for class 1"
   ]
  },
  {
   "cell_type": "markdown",
   "metadata": {
    "_uuid": "67cc3efe19b6627ebaa78990b2cf1f81f6f4f360"
   },
   "source": [
    "### Due to Class Imbalance problem model is not able to make predictions on class 1(Attrition Yes)"
   ]
  },
  {
   "cell_type": "code",
   "execution_count": null,
   "metadata": {
    "_uuid": "64905b66dd497dc57147de6833eab43eb95b3b7c"
   },
   "outputs": [],
   "source": [
    "#Performing OverSample using SMOTE(Synthetic Minority Over Sampling Technique)\n",
    "from imblearn.over_sampling import SMOTE\n",
    "smote=SMOTE()"
   ]
  },
  {
   "cell_type": "code",
   "execution_count": null,
   "metadata": {
    "_uuid": "34787a513d920ded65fba7e8480c6aee863c00ec"
   },
   "outputs": [],
   "source": [
    "X_sm, y_sm=smote.fit_sample(X,y)"
   ]
  },
  {
   "cell_type": "code",
   "execution_count": null,
   "metadata": {
    "_uuid": "895d4328e47ea0564d03f003bf772c014e9d4b7d"
   },
   "outputs": [],
   "source": [
    "X_train_sm,X_test_sm,y_train_sm,y_test_sm=train_test_split(X_sm,y_sm,test_size=0.2,random_state=100)"
   ]
  },
  {
   "cell_type": "code",
   "execution_count": null,
   "metadata": {
    "_uuid": "b7a5dbb4b788288f1f5d312cf91a81e913a0720d"
   },
   "outputs": [],
   "source": [
    "#logistic Regression for OverSampled Data \n",
    "lr_sm=LogisticRegression()\n",
    "model(lr_sm,\"Logistic Regression\",X_train_sm,y_train_sm,X_test_sm,y_test_sm)"
   ]
  },
  {
   "cell_type": "markdown",
   "metadata": {
    "_uuid": "f3c53ae1439926f1b430d08595242de8cc927e54"
   },
   "source": [
    "> Accuracy is 80%(less than the model with original data set) but Precision and Recall for class 1 is improved"
   ]
  },
  {
   "cell_type": "code",
   "execution_count": null,
   "metadata": {
    "_uuid": "f41f450a907e756ec9fd6c1b57a49606b00714cb"
   },
   "outputs": [],
   "source": [
    "dt_sm=DecisionTreeClassifier(min_samples_leaf=20, max_depth=4)\n",
    "model(dt_sm,\"Decision Tree\",X_train_sm,y_train_sm,X_test_sm,y_test_sm)"
   ]
  },
  {
   "cell_type": "markdown",
   "metadata": {
    "_uuid": "d81c4e33c58102b01cdb81f5c56eb47df4a9d046"
   },
   "source": [
    "Accuracy is 85% but Precision and Recall for class 1 is improved"
   ]
  },
  {
   "cell_type": "code",
   "execution_count": null,
   "metadata": {
    "_uuid": "c774b65d7fa281be4991cee91d57f0183f2f3e43"
   },
   "outputs": [],
   "source": [
    "rf_sm=RandomForestClassifier(n_estimators=10,max_depth=4)\n",
    "model(rf_sm,\"Random Forest\",X_train_sm,y_train_sm,X_test_sm,y_test_sm)"
   ]
  },
  {
   "cell_type": "markdown",
   "metadata": {
    "_uuid": "1dfeeaf30ddd12362502e4329d5e2e9562a50467"
   },
   "source": [
    "Accuracy is high and  Precision and Recall for class 1 is also High"
   ]
  },
  {
   "cell_type": "code",
   "execution_count": null,
   "metadata": {
    "_uuid": "b2b5a4d19e8ad980c54612afb9dadead7b1feedb"
   },
   "outputs": [],
   "source": []
  },
  {
   "cell_type": "code",
   "execution_count": null,
   "metadata": {
    "_uuid": "16dbcc390e4bb2cea391a90d7906ddb8a5db6dfb"
   },
   "outputs": [],
   "source": []
  },
  {
   "cell_type": "code",
   "execution_count": null,
   "metadata": {
    "_uuid": "08a0bbb64cdfc7a5951a570084af48a6ef92177b"
   },
   "outputs": [],
   "source": []
  },
  {
   "cell_type": "code",
   "execution_count": null,
   "metadata": {
    "_uuid": "9653163ad943460785a5c1b31fc5b9869d76cdaa"
   },
   "outputs": [],
   "source": []
  }
 ],
 "metadata": {
  "kernelspec": {
   "display_name": "Python 3",
   "language": "python",
   "name": "python3"
  },
  "language_info": {
   "codemirror_mode": {
    "name": "ipython",
    "version": 3
   },
   "file_extension": ".py",
   "mimetype": "text/x-python",
   "name": "python",
   "nbconvert_exporter": "python",
   "pygments_lexer": "ipython3",
   "version": "3.7.7"
  }
 },
 "nbformat": 4,
 "nbformat_minor": 1
}
